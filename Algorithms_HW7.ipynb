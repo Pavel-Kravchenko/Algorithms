{
 "cells": [
  {
   "cell_type": "markdown",
   "metadata": {},
   "source": [
    "Реализовать наивный поиск подстроки в строке. Построить график зависимости времени поиска случайной подстроки длины N/2 в строке длины N от N.  (1 балл)\n"
   ]
  },
  {
   "cell_type": "code",
   "execution_count": 181,
   "metadata": {},
   "outputs": [],
   "source": [
    "import seaborn as sns; sns.set()\n",
    "import matplotlib.pyplot as plt\n",
    "import pandas as pd\n",
    "import random\n",
    "import time\n",
    "from progress.bar import Bar\n",
    "from tqdm import tqdm"
   ]
  },
  {
   "cell_type": "code",
   "execution_count": 182,
   "metadata": {},
   "outputs": [
    {
     "name": "stderr",
     "output_type": "stream",
     "text": [
      "  0%|          | 0/53 [00:00<?, ?it/s]\n",
      "  0%|          | 0/52 [00:00<?, ?it/s]\n",
      "100%|██████████| 51/51 [00:00<00:00, 241705.65it/s]\n",
      "  0%|          | 0/42 [00:00<?, ?it/s]\n",
      "  0%|          | 0/24 [00:00<?, ?it/s]"
     ]
    },
    {
     "name": "stdout",
     "output_type": "stream",
     "text": [
      "Yes\n",
      "Yes\n",
      "No\n",
      "Yes\n",
      "Yes\n"
     ]
    },
    {
     "name": "stderr",
     "output_type": "stream",
     "text": [
      "\n"
     ]
    }
   ],
   "source": [
    "T = \"aaaaabbbabbababababababababbababbbbbbbbababbbbbabababababbababab\"\n",
    "P1 = \"aaaaabbbabba\"\n",
    "P2 = \"babbababababa\"\n",
    "P3 = \"babbabafbababa\"\n",
    "P4 = \"abababbababbbbbbbbababb\"\n",
    "P5 = \"ababbababbbbbbbbababbbbbabababababbababab\"\n",
    "\n",
    "def SearchNaive(T,P):\n",
    "    for i in tqdm(range(len(T)-len(P)+1)):\n",
    "        if T[i:i + len(P)] == P:\n",
    "            return \"Yes\"\n",
    "        else:\n",
    "            continue\n",
    "        \n",
    "    return \"No\"\n",
    "\n",
    "print(SearchNaive(T,P1))\n",
    "print(SearchNaive(T,P2))\n",
    "print(SearchNaive(T,P3))\n",
    "print(SearchNaive(T,P4))\n",
    "print(SearchNaive(T,P5))"
   ]
  },
  {
   "cell_type": "code",
   "execution_count": 185,
   "metadata": {},
   "outputs": [
    {
     "name": "stderr",
     "output_type": "stream",
     "text": [
      "100%|██████████| 6/6 [00:00<00:00, 21183.35it/s]\n",
      "100%|██████████| 56/56 [00:00<00:00, 195571.21it/s]\n",
      "100%|██████████| 106/106 [00:00<00:00, 440630.55it/s]\n",
      "100%|██████████| 156/156 [00:00<00:00, 598638.08it/s]\n",
      "100%|██████████| 206/206 [00:00<00:00, 774911.77it/s]\n",
      "100%|██████████| 256/256 [00:00<00:00, 863136.51it/s]\n",
      "100%|██████████| 306/306 [00:00<00:00, 381867.61it/s]\n",
      "100%|██████████| 356/356 [00:00<00:00, 822231.40it/s]\n",
      "100%|██████████| 406/406 [00:00<00:00, 1036450.05it/s]\n",
      "100%|██████████| 456/456 [00:00<00:00, 1334684.32it/s]\n",
      "100%|██████████| 506/506 [00:00<00:00, 1097372.19it/s]\n",
      "100%|██████████| 556/556 [00:00<00:00, 437529.65it/s]\n",
      "100%|██████████| 606/606 [00:00<00:00, 718616.97it/s]\n",
      "100%|██████████| 656/656 [00:00<00:00, 667830.93it/s]\n",
      "100%|██████████| 706/706 [00:00<00:00, 1169963.90it/s]\n",
      "100%|██████████| 756/756 [00:00<00:00, 269840.34it/s]\n",
      "100%|██████████| 806/806 [00:00<00:00, 939058.06it/s]\n",
      "100%|██████████| 856/856 [00:00<00:00, 860163.93it/s]\n",
      "100%|██████████| 906/906 [00:00<00:00, 892237.48it/s]\n",
      "100%|██████████| 956/956 [00:00<00:00, 1290139.84it/s]\n",
      "100%|██████████| 1006/1006 [00:00<00:00, 1024391.80it/s]\n",
      "100%|██████████| 1056/1056 [00:00<00:00, 1243454.53it/s]\n",
      "100%|██████████| 1106/1106 [00:00<00:00, 576690.73it/s]\n",
      "100%|██████████| 1156/1156 [00:00<00:00, 890634.72it/s]\n",
      "100%|██████████| 1206/1206 [00:00<00:00, 1325558.34it/s]\n",
      "100%|██████████| 1256/1256 [00:00<00:00, 1174068.60it/s]\n",
      "100%|██████████| 1306/1306 [00:00<00:00, 811520.15it/s]\n",
      "100%|██████████| 1356/1356 [00:00<00:00, 1255513.52it/s]\n",
      "100%|██████████| 1406/1406 [00:00<00:00, 1394464.75it/s]\n",
      "100%|██████████| 1456/1456 [00:00<00:00, 1103126.20it/s]\n",
      "100%|██████████| 1506/1506 [00:00<00:00, 1288317.73it/s]\n",
      "100%|██████████| 1556/1556 [00:00<00:00, 613377.54it/s]\n",
      "100%|██████████| 1606/1606 [00:00<00:00, 634041.06it/s]\n",
      "100%|██████████| 1656/1656 [00:00<00:00, 918266.45it/s]\n",
      "100%|██████████| 1706/1706 [00:00<00:00, 1069578.87it/s]\n",
      "100%|██████████| 1756/1756 [00:00<00:00, 979805.48it/s]\n",
      "100%|██████████| 1806/1806 [00:00<00:00, 1264382.08it/s]\n",
      "100%|██████████| 1856/1856 [00:00<00:00, 1126411.26it/s]\n",
      "100%|██████████| 1906/1906 [00:00<00:00, 1191052.36it/s]\n",
      "100%|██████████| 1956/1956 [00:00<00:00, 612288.87it/s]\n",
      "100%|██████████| 2006/2006 [00:00<00:00, 586162.31it/s]\n",
      "100%|██████████| 2056/2056 [00:00<00:00, 695274.45it/s]\n",
      "100%|██████████| 2106/2106 [00:00<00:00, 1248509.43it/s]\n",
      "100%|██████████| 2156/2156 [00:00<00:00, 686682.32it/s]\n",
      "100%|██████████| 2206/2206 [00:00<00:00, 1261608.21it/s]\n",
      "100%|██████████| 2256/2256 [00:00<00:00, 846288.33it/s]\n",
      "100%|██████████| 2306/2306 [00:00<00:00, 1199859.20it/s]\n",
      "100%|██████████| 2356/2356 [00:00<00:00, 842364.69it/s]\n",
      "100%|██████████| 2406/2406 [00:00<00:00, 1303979.25it/s]\n",
      "100%|██████████| 2456/2456 [00:00<00:00, 963180.05it/s]\n",
      "100%|██████████| 2506/2506 [00:00<00:00, 1128993.11it/s]\n",
      "100%|██████████| 2556/2556 [00:00<00:00, 1145367.63it/s]\n",
      "100%|██████████| 2606/2606 [00:00<00:00, 644630.59it/s]\n",
      "100%|██████████| 2656/2656 [00:00<00:00, 762235.47it/s]\n",
      "100%|██████████| 2706/2706 [00:00<00:00, 622451.83it/s]\n",
      "100%|██████████| 2756/2756 [00:00<00:00, 871363.02it/s]\n",
      "100%|██████████| 2806/2806 [00:00<00:00, 1076387.14it/s]\n",
      "100%|██████████| 2856/2856 [00:00<00:00, 1352481.90it/s]\n",
      "100%|██████████| 2906/2906 [00:00<00:00, 893006.62it/s]\n",
      "100%|██████████| 2956/2956 [00:00<00:00, 794614.02it/s]\n",
      "100%|██████████| 3006/3006 [00:00<00:00, 1119523.87it/s]\n",
      "100%|██████████| 3056/3056 [00:00<00:00, 411195.72it/s]\n",
      "100%|██████████| 3106/3106 [00:00<00:00, 1226811.21it/s]\n",
      "100%|██████████| 3156/3156 [00:00<00:00, 989329.10it/s]\n",
      "100%|██████████| 3206/3206 [00:00<00:00, 817294.03it/s]\n",
      "100%|██████████| 3256/3256 [00:00<00:00, 1245022.68it/s]\n",
      "100%|██████████| 3306/3306 [00:00<00:00, 639415.71it/s]\n",
      "100%|██████████| 3356/3356 [00:00<00:00, 1116529.25it/s]\n",
      "100%|██████████| 3406/3406 [00:00<00:00, 586180.27it/s]\n",
      "100%|██████████| 3456/3456 [00:00<00:00, 860063.76it/s]\n",
      "100%|██████████| 3506/3506 [00:00<00:00, 1341962.93it/s]\n",
      "100%|██████████| 3556/3556 [00:00<00:00, 829114.74it/s]\n",
      "100%|██████████| 3606/3606 [00:00<00:00, 1136765.14it/s]\n",
      "100%|██████████| 3656/3656 [00:00<00:00, 1267827.65it/s]\n",
      "100%|██████████| 3706/3706 [00:00<00:00, 1290394.37it/s]\n",
      "100%|██████████| 3756/3756 [00:00<00:00, 997518.26it/s]\n",
      "100%|██████████| 3806/3806 [00:00<00:00, 964621.49it/s]\n",
      "100%|██████████| 3856/3856 [00:00<00:00, 955808.54it/s]\n",
      "100%|██████████| 3906/3906 [00:00<00:00, 1131263.05it/s]\n",
      "100%|██████████| 3956/3956 [00:00<00:00, 1189267.96it/s]\n",
      "100%|██████████| 4006/4006 [00:00<00:00, 1285470.26it/s]\n",
      "100%|██████████| 4056/4056 [00:00<00:00, 1258012.06it/s]\n",
      "100%|██████████| 4106/4106 [00:00<00:00, 1129891.89it/s]\n",
      "100%|██████████| 4156/4156 [00:00<00:00, 1059989.51it/s]\n",
      "100%|██████████| 4206/4206 [00:00<00:00, 1039370.92it/s]\n",
      "100%|██████████| 4256/4256 [00:00<00:00, 1244402.78it/s]\n",
      "100%|██████████| 4306/4306 [00:00<00:00, 456977.71it/s]\n",
      "100%|██████████| 4356/4356 [00:00<00:00, 1281952.58it/s]\n",
      "100%|██████████| 4406/4406 [00:00<00:00, 1251530.78it/s]\n",
      "100%|██████████| 4456/4456 [00:00<00:00, 1101020.24it/s]\n",
      "100%|██████████| 4506/4506 [00:00<00:00, 888846.06it/s]\n",
      "100%|██████████| 4556/4556 [00:00<00:00, 666431.23it/s]\n",
      "100%|██████████| 4606/4606 [00:00<00:00, 652381.19it/s]\n",
      "100%|██████████| 4656/4656 [00:00<00:00, 750064.50it/s]\n",
      "100%|██████████| 4706/4706 [00:00<00:00, 1051368.63it/s]\n",
      "100%|██████████| 4756/4756 [00:00<00:00, 887687.34it/s]\n",
      "100%|██████████| 4806/4806 [00:00<00:00, 689557.18it/s]\n",
      "100%|██████████| 4856/4856 [00:00<00:00, 1260913.78it/s]\n",
      "100%|██████████| 4906/4906 [00:00<00:00, 1299479.34it/s]\n",
      "100%|██████████| 4956/4956 [00:00<00:00, 1328750.36it/s]\n",
      "100%|██████████| 5006/5006 [00:00<00:00, 1319633.32it/s]\n",
      "100%|██████████| 5056/5056 [00:00<00:00, 1121319.85it/s]\n",
      "100%|██████████| 5106/5106 [00:00<00:00, 785451.34it/s]\n",
      "100%|██████████| 5156/5156 [00:00<00:00, 1216164.18it/s]\n",
      "100%|██████████| 5206/5206 [00:00<00:00, 1312311.23it/s]\n",
      "100%|██████████| 5256/5256 [00:00<00:00, 1378087.26it/s]\n",
      "100%|██████████| 5306/5306 [00:00<00:00, 1332713.16it/s]\n",
      "100%|██████████| 5356/5356 [00:00<00:00, 1205252.01it/s]\n",
      "100%|██████████| 5406/5406 [00:00<00:00, 903542.83it/s]\n",
      "100%|██████████| 5456/5456 [00:00<00:00, 1377731.65it/s]\n",
      "100%|██████████| 5506/5506 [00:00<00:00, 1287712.60it/s]\n",
      "100%|██████████| 5556/5556 [00:00<00:00, 1215752.97it/s]\n",
      "100%|██████████| 5606/5606 [00:00<00:00, 1300728.45it/s]\n",
      "100%|██████████| 5656/5656 [00:00<00:00, 1316846.15it/s]\n",
      "100%|██████████| 5706/5706 [00:00<00:00, 848406.49it/s]\n",
      "100%|██████████| 5756/5756 [00:00<00:00, 1083445.40it/s]\n",
      "100%|██████████| 5806/5806 [00:00<00:00, 829121.55it/s]\n",
      "100%|██████████| 5856/5856 [00:00<00:00, 1155742.72it/s]\n",
      "100%|██████████| 5906/5906 [00:00<00:00, 1114330.16it/s]\n",
      "100%|██████████| 5956/5956 [00:00<00:00, 1017567.19it/s]\n",
      "100%|██████████| 6006/6006 [00:00<00:00, 885261.10it/s]\n",
      "100%|██████████| 6056/6056 [00:00<00:00, 833821.52it/s]\n",
      "100%|██████████| 6106/6106 [00:00<00:00, 672542.55it/s]\n",
      "100%|██████████| 6156/6156 [00:00<00:00, 1054571.78it/s]\n",
      "100%|██████████| 6206/6206 [00:00<00:00, 1297987.96it/s]\n",
      "100%|██████████| 6256/6256 [00:00<00:00, 1020121.52it/s]\n",
      "100%|██████████| 6306/6306 [00:00<00:00, 1128286.03it/s]\n",
      "100%|██████████| 6356/6356 [00:00<00:00, 950409.85it/s]\n",
      "100%|██████████| 6406/6406 [00:00<00:00, 1253555.63it/s]\n",
      "100%|██████████| 6456/6456 [00:00<00:00, 961011.70it/s]\n",
      "100%|██████████| 6506/6506 [00:00<00:00, 1023177.42it/s]\n",
      "100%|██████████| 6556/6556 [00:00<00:00, 1040481.95it/s]\n",
      "100%|██████████| 6606/6606 [00:00<00:00, 941473.74it/s]\n",
      "100%|██████████| 6656/6656 [00:00<00:00, 1281785.46it/s]\n",
      "100%|██████████| 6706/6706 [00:00<00:00, 1201084.75it/s]\n",
      "100%|██████████| 6756/6756 [00:00<00:00, 1117202.25it/s]\n",
      "100%|██████████| 6806/6806 [00:00<00:00, 1108642.39it/s]\n",
      "100%|██████████| 6856/6856 [00:00<00:00, 955703.02it/s]\n",
      "100%|██████████| 6906/6906 [00:00<00:00, 1212366.63it/s]\n",
      "100%|██████████| 6956/6956 [00:00<00:00, 1095426.10it/s]\n",
      "100%|██████████| 7006/7006 [00:00<00:00, 1057101.01it/s]\n",
      "100%|██████████| 7056/7056 [00:00<00:00, 1163646.01it/s]\n",
      "100%|██████████| 7106/7106 [00:00<00:00, 932592.52it/s]\n",
      "100%|██████████| 7156/7156 [00:00<00:00, 1041589.37it/s]\n",
      "100%|██████████| 7206/7206 [00:00<00:00, 974595.47it/s]\n",
      "100%|██████████| 7256/7256 [00:00<00:00, 1260828.15it/s]\n",
      "100%|██████████| 7306/7306 [00:00<00:00, 1257998.48it/s]\n",
      "100%|██████████| 7356/7356 [00:00<00:00, 1051076.52it/s]\n",
      "100%|██████████| 7406/7406 [00:00<00:00, 1066102.05it/s]\n",
      "100%|██████████| 7456/7456 [00:00<00:00, 1027322.71it/s]\n",
      "100%|██████████| 7506/7506 [00:00<00:00, 1172574.24it/s]\n",
      "100%|██████████| 7556/7556 [00:00<00:00, 1102374.38it/s]\n",
      "100%|██████████| 7606/7606 [00:00<00:00, 866522.06it/s]\n",
      "100%|██████████| 7656/7656 [00:00<00:00, 1020614.42it/s]\n",
      "100%|██████████| 7706/7706 [00:00<00:00, 1090609.62it/s]\n",
      "100%|██████████| 7756/7756 [00:00<00:00, 1352809.99it/s]\n",
      "100%|██████████| 7806/7806 [00:00<00:00, 1159990.68it/s]\n",
      "100%|██████████| 7856/7856 [00:00<00:00, 1198983.05it/s]\n",
      "100%|██████████| 7906/7906 [00:00<00:00, 1289576.40it/s]\n",
      "100%|██████████| 7956/7956 [00:00<00:00, 928411.17it/s]\n",
      "100%|██████████| 8006/8006 [00:00<00:00, 1043719.82it/s]\n",
      "100%|██████████| 8056/8056 [00:00<00:00, 1100306.52it/s]\n",
      "100%|██████████| 8106/8106 [00:00<00:00, 1100363.40it/s]\n",
      "100%|██████████| 8156/8156 [00:00<00:00, 948425.06it/s]\n",
      "100%|██████████| 8206/8206 [00:00<00:00, 1350484.92it/s]\n",
      "100%|██████████| 8256/8256 [00:00<00:00, 1241375.65it/s]\n",
      "100%|██████████| 8306/8306 [00:00<00:00, 1186536.19it/s]\n",
      "100%|██████████| 8356/8356 [00:00<00:00, 1309456.54it/s]\n",
      "100%|██████████| 8406/8406 [00:00<00:00, 1347962.97it/s]\n",
      "100%|██████████| 8456/8456 [00:00<00:00, 1028536.80it/s]\n",
      "100%|██████████| 8506/8506 [00:00<00:00, 924459.73it/s]\n",
      "100%|██████████| 8556/8556 [00:00<00:00, 1025298.28it/s]\n",
      "100%|██████████| 8606/8606 [00:00<00:00, 1071357.60it/s]\n",
      "100%|██████████| 8656/8656 [00:00<00:00, 794717.96it/s]\n",
      "100%|██████████| 8706/8706 [00:00<00:00, 1113314.75it/s]\n",
      "100%|██████████| 8756/8756 [00:00<00:00, 819176.61it/s]\n",
      "100%|██████████| 8806/8806 [00:00<00:00, 683475.96it/s]\n",
      "100%|██████████| 8856/8856 [00:00<00:00, 668648.41it/s]\n",
      "100%|██████████| 8906/8906 [00:00<00:00, 1076839.10it/s]\n",
      "100%|██████████| 8956/8956 [00:00<00:00, 1220527.88it/s]\n",
      "100%|██████████| 9006/9006 [00:00<00:00, 1370307.69it/s]\n",
      "100%|██████████| 9056/9056 [00:00<00:00, 1149868.83it/s]\n",
      "100%|██████████| 9106/9106 [00:00<00:00, 1250559.32it/s]\n",
      "100%|██████████| 9156/9156 [00:00<00:00, 1274493.81it/s]\n",
      "100%|██████████| 9206/9206 [00:00<00:00, 1315282.99it/s]\n",
      "100%|██████████| 9256/9256 [00:00<00:00, 1203350.00it/s]\n",
      "100%|██████████| 9306/9306 [00:00<00:00, 1305817.57it/s]\n",
      "100%|██████████| 9356/9356 [00:00<00:00, 1097246.06it/s]\n",
      "100%|██████████| 9406/9406 [00:00<00:00, 1301260.75it/s]\n",
      "100%|██████████| 9456/9456 [00:00<00:00, 680741.11it/s]\n",
      "100%|██████████| 9506/9506 [00:00<00:00, 1227519.28it/s]\n",
      "100%|██████████| 9556/9556 [00:00<00:00, 1076774.28it/s]\n",
      "100%|██████████| 9606/9606 [00:00<00:00, 1104696.32it/s]\n",
      "100%|██████████| 9656/9656 [00:00<00:00, 1036155.23it/s]\n",
      "100%|██████████| 9706/9706 [00:00<00:00, 1184150.63it/s]\n",
      "100%|██████████| 9756/9756 [00:00<00:00, 990982.03it/s]\n",
      "100%|██████████| 9806/9806 [00:00<00:00, 996881.70it/s]\n",
      "100%|██████████| 9856/9856 [00:00<00:00, 1249669.29it/s]\n",
      "100%|██████████| 9906/9906 [00:00<00:00, 985011.63it/s]\n",
      "100%|██████████| 9956/9956 [00:00<00:00, 1025553.58it/s]\n"
     ]
    }
   ],
   "source": [
    "N = [n for n in range(10, 20000, 100)] \n",
    "Lengthes = []\n",
    "Times = []\n",
    "seed = \"01\"\n",
    "for x in N:\n",
    "    #print(x)\n",
    "    M = x//2\n",
    "    seq = \"\".join([random.choice(seed) for i in range(x)])\n",
    "    #print(seq)\n",
    "    subseq = \"\".join([random.choice(seed) for i in range(x//2)])\n",
    "    #print(subseq)\n",
    "    #if subseq == 1:\n",
    "    #    subseq = seq[len(seq)//2:len(seq)]\n",
    "        #print(subseq)\n",
    "    #else:\n",
    "    #    subseq = seq[0:len(seq)//2]\n",
    "        #print(subseq)\n",
    "    #print(subseq)\n",
    "    start = time.time()\n",
    "    SearchNaive(seq, subseq)\n",
    "    end = time.time()\n",
    "    Lengthes.append(x)\n",
    "    Times.append(end-start)"
   ]
  },
  {
   "cell_type": "code",
   "execution_count": 186,
   "metadata": {},
   "outputs": [
    {
     "data": {
      "image/png": "[encoded data removed]",
      "text/plain": [
       "<Figure size 432x288 with 1 Axes>"
      ]
     },
     "metadata": {},
     "output_type": "display_data"
    }
   ],
   "source": [
    "x, y = Lengthes, Times\n",
    "plt.plot(x, y, \"bo\")\n",
    "plt.show()"
   ]
  },
  {
   "cell_type": "markdown",
   "metadata": {},
   "source": [
    "Реализовать наивный способ вычисления префикс-функции. Построить график зависимости времени построения префикс-функции от размера строки N для случайной строки (1 балл)\n"
   ]
  },
  {
   "cell_type": "code",
   "execution_count": 60,
   "metadata": {},
   "outputs": [
    {
     "name": "stdout",
     "output_type": "stream",
     "text": [
      "[0, 0, 0, 0, 1, 2, 3, 0, 0, 0]\n"
     ]
    }
   ],
   "source": [
    "def sp(a):\n",
    "    P = [0]*len(a)\n",
    "    for i in range(2,len(a)):\n",
    "        subs = a[0:i]\n",
    "        for j in range(len(subs)):\n",
    "            suf = subs[-j:]\n",
    "            pref = subs[:j]\n",
    "            if suf == pref:\n",
    "                P[i] = j\n",
    "    return P\n",
    "                \n",
    "T = \"abbabbjjjj\"\n",
    "print(sp(T))"
   ]
  },
  {
   "cell_type": "code",
   "execution_count": 61,
   "metadata": {},
   "outputs": [],
   "source": [
    "import numpy as np\n",
    "import time\n",
    "import random\n",
    "import sys\n",
    "import matplotlib.pyplot as plt\n",
    "%matplotlib inline\n",
    "\n",
    "sys.setrecursionlimit = 10**3 #in case you use bigger test set \n",
    "seed = \"ab\"\n",
    "\n",
    "\n",
    "test = [n for n in range(0, 2000, 10)] \n",
    "#print(test)\n",
    "lengthes = []\n",
    "avg_times = []\n",
    "for x in test:\n",
    "    #print(x)\n",
    "    seq = [random.choice(seed) for i in range(x)]\n",
    "    #print(rand)\n",
    "    start = time.time()\n",
    "    sp(seq)\n",
    "    end = time.time()\n",
    "    lengthes.append(len(seq))\n",
    "    avg_times.append(end-start)"
   ]
  },
  {
   "cell_type": "code",
   "execution_count": 62,
   "metadata": {},
   "outputs": [
    {
     "data": {
      "image/png": "[encoded data removed]",
      "text/plain": [
       "<Figure size 432x288 with 1 Axes>"
      ]
     },
     "metadata": {},
     "output_type": "display_data"
    }
   ],
   "source": [
    "import seaborn as sns; sns.set()\n",
    "import matplotlib.pyplot as plt\n",
    "import pandas as pd\n",
    "\n",
    "x, y = lengthes, avg_times\n",
    "plt.plot(x, y, \"bo\")\n",
    "plt.show()"
   ]
  },
  {
   "cell_type": "markdown",
   "metadata": {},
   "source": [
    "Реализовать динамический массив. Вы ДОЛЖНЫ использовать list фиксированного размера в своей реализации (или numpy-массивы). Просто отнаследоваться от list - не решение. Удаление элемента реализовывать необязательно. (2 балла)\n"
   ]
  },
  {
   "cell_type": "code",
   "execution_count": 59,
   "metadata": {},
   "outputs": [],
   "source": [
    "import numpy \n",
    "  \n",
    "class DynamicMassive(object): \n",
    "\n",
    "    def __init__(self): \n",
    "        self.count = 0\n",
    "        self.size = 1\n",
    "        self.A = self.make_array(self.size) \n",
    "          \n",
    "    def __len__(self): \n",
    "        return self.count\n",
    "    \n",
    "    def size(self): \n",
    "        return self.size\n",
    "      \n",
    "    def __getitem__(self, k): \n",
    "        if k < 0 and k >= self.count: \n",
    "            return IndexError('Size is exceeded!')  \n",
    "        return self.A[k]\n",
    "          \n",
    "    def append(self, elem): \n",
    "        if self.count == self.size: \n",
    "            B = self.make_array(2 * self.size) \n",
    "            for i in range(self.count):\n",
    "                B[i] = self.A[i] \n",
    "            self.A = B\n",
    "            self.size = 2 * self.size\n",
    "          \n",
    "        self.A[self.count] = elem\n",
    "        self.count += 1\n",
    "                    \n",
    "    def make_array(self, new_cap): \n",
    "        return numpy.empty(new_cap, dtype=int, order='C')"
   ]
  },
  {
   "cell_type": "code",
   "execution_count": 60,
   "metadata": {},
   "outputs": [
    {
     "name": "stdout",
     "output_type": "stream",
     "text": [
      "1\n",
      "2\n",
      "4\n",
      "4\n",
      "8\n",
      "8\n",
      "8\n",
      "8\n",
      "16\n",
      "16\n",
      "16\n",
      "16\n",
      "3\n",
      "[                  1                   2                   3\n",
      "                   4                   5                   6\n",
      "                   7                   8                   9\n",
      "                  10                  11                  12\n",
      " 7881702260482471202 8319104481852400229 7378622672574246761\n",
      " 3906644190443169331]\n"
     ]
    }
   ],
   "source": [
    "mass = DynamicMassive() \n",
    "mass.append(1) \n",
    "print(mass.size)\n",
    "mass.append(2) \n",
    "print(mass.size)\n",
    "mass.append(3) \n",
    "print(mass.size)\n",
    "mass.append(4) \n",
    "print(mass.size)\n",
    "mass.append(5) \n",
    "print(mass.size)\n",
    "mass.append(6) \n",
    "print(mass.size)\n",
    "mass.append(7) \n",
    "print(mass.size)\n",
    "mass.append(8) \n",
    "print(mass.size)\n",
    "mass.append(9) \n",
    "print(mass.size)\n",
    "mass.append(10) \n",
    "print(mass.size)\n",
    "mass.append(11) \n",
    "print(mass.size)\n",
    "mass.append(12) \n",
    "print(mass.size)\n",
    "print(mass[2])\n",
    "\n",
    "print(mass.A)"
   ]
  },
  {
   "cell_type": "markdown",
   "metadata": {},
   "source": [
    "Реализовать вычисление префикс-функции для всего паттерна за O(N) времени. (2 балла)\n"
   ]
  },
  {
   "cell_type": "code",
   "execution_count": 65,
   "metadata": {},
   "outputs": [
    {
     "name": "stdout",
     "output_type": "stream",
     "text": [
      "[0, 0, 0, 1, 2, 3]\n"
     ]
    }
   ],
   "source": [
    "def prefixs(p):\n",
    "    sp = [0]*len(p)\n",
    "    j = 0 \n",
    "    for i in range(1,len(p)):\n",
    "        #print('i', i)\n",
    "        while j >= 0 and p[j] != p[i]:\n",
    "            if j-1 >= 0:\n",
    "                j = sp[j-1]\n",
    "            else:\n",
    "                j = -1 \n",
    "        j += 1\n",
    "        #print(\"j\", j)\n",
    "        sp[i] = j\n",
    "        \n",
    "    return sp\n",
    "        \n",
    "#T = \"aaaaabbbabbabbbbbabababababbababab\"\n",
    "T = \"abcabc\"\n",
    "print(prefixs(T))"
   ]
  },
  {
   "cell_type": "markdown",
   "metadata": {},
   "source": [
    "Реализовать поиск всех вхождений паттерна в тексте на основе алгоритма вычисления префикс-функции (1 балл) (https://habr.com/post/307220/)\n"
   ]
  },
  {
   "cell_type": "code",
   "execution_count": 92,
   "metadata": {},
   "outputs": [
    {
     "name": "stdout",
     "output_type": "stream",
     "text": [
      "[0, 0, 0, 0, 1, 2, 3, 1, 2, 3, 0, 1, 2, 0]\n",
      "[0, 3]\n",
      "abc\n",
      "[0, 0, 0, 0, 1, 2, 3, 1, 2, 3, 0, 1, 2]\n",
      "[0, 3]\n"
     ]
    }
   ],
   "source": [
    "def prefix_search1(S,p):\n",
    "    x = p + \"@\" + S + \"$\"\n",
    "    sp = [0]*len(x)\n",
    "    j = 0 \n",
    "    for i in range(1,len(x)):\n",
    "        while j >= 0 and x[j] != x[i]:\n",
    "            if j-1 >= 0:\n",
    "                j = sp[j-1]\n",
    "            else:\n",
    "                j = -1 \n",
    "        j += 1\n",
    "        sp[i] = j\n",
    "        \n",
    "    print(sp)\n",
    "    out = []\n",
    "    for i in range(len(sp)):\n",
    "        if sp[i] == len(p):\n",
    "            out.append(i-len(p)*2)\n",
    "    return out\n",
    "\n",
    "def prefix_search2(T, p):\n",
    "    x = p + '@' + T + '$'\n",
    "    print(p)\n",
    "    i = 1\n",
    "    j = 0\n",
    "    sp = [0]*(len(x)-1)\n",
    "    while x[i] != '$':\n",
    "        while (j > 0) and (x[i] != x[j]):\n",
    "            j = sp[j-1]\n",
    "        if x[i] == x[j]:\n",
    "            j += 1\n",
    "        sp[i] = j\n",
    "        i += 1\n",
    "    print(sp)\n",
    "    out = []\n",
    "    for i in range(len(sp)):\n",
    "        \n",
    "        if sp[i] == len(p):\n",
    "            #print(i)\n",
    "            out.append(i-len(p)*2)\n",
    "    return out\n",
    "\n",
    "S=\"abcabccab\"\n",
    "p=\"abc\"\n",
    "print(prefix_search1(S,p))\n",
    "print(prefix_search2(S,p))"
   ]
  },
  {
   "cell_type": "code",
   "execution_count": null,
   "metadata": {},
   "outputs": [],
   "source": []
  },
  {
   "cell_type": "markdown",
   "metadata": {},
   "source": [
    "Реализовать классический алгоритм Кнута-Морриса-Пратта (вычисление префикс функции паттерна и использование ее в ходе поиска в тексте раздельно) (1 балл)\n"
   ]
  },
  {
   "cell_type": "code",
   "execution_count": 78,
   "metadata": {},
   "outputs": [
    {
     "name": "stdout",
     "output_type": "stream",
     "text": [
      "[0, 0, 0, 1, 2, 3, 4, 5]\n",
      "j 5\n",
      "[0]\n",
      "j 5\n",
      "[0, 3]\n"
     ]
    },
    {
     "data": {
      "text/plain": [
       "[0, 3]"
      ]
     },
     "execution_count": 78,
     "metadata": {},
     "output_type": "execute_result"
    }
   ],
   "source": [
    "def prefixs(p):\n",
    "    sp = [0]*len(p)\n",
    "    j = 0 \n",
    "    for i in range(1,len(p)):\n",
    "        #print('i', i)\n",
    "        while j >= 0 and p[j] != p[i]:\n",
    "            if j-1 >= 0:\n",
    "                j = sp[j-1]\n",
    "            else:\n",
    "                j = -1 \n",
    "        j += 1\n",
    "        #print(\"j\", j)\n",
    "        sp[i] = j\n",
    "    #print(sp)\n",
    "    return sp\n",
    "\n",
    "\n",
    "def find_intersections(S, p):\n",
    "    matches = []\n",
    "    f = prefixs(p)\n",
    "    #print(f)\n",
    "    n, m = len(S),len(p)\n",
    "    #print(n, m)\n",
    "    j = 0\n",
    "    for i in range(n):\n",
    "        #print(i)\n",
    "        #print(i, S[i], p[j])\n",
    "        while j >= 0 and S[i] != p[j]:\n",
    "            #print(i, S[i], p[j])\n",
    "            if j-1 >= 0: \n",
    "                j = f[j-1]\n",
    "            else: \n",
    "                j = -1\n",
    "        j += 1  \n",
    "        #print(\"j\", j)\n",
    "        if j == m:\n",
    "            j = f[m - 1]\n",
    "            #print(\"j\", j)\n",
    "            matches.append(i - m + 1)\n",
    "            #print(matches)\n",
    "    return matches\n",
    "\n",
    "S = \"abcabcabcab\"\n",
    "p = \"abcabcab\"\n",
    "find_intersections(S, p)"
   ]
  },
  {
   "cell_type": "code",
   "execution_count": null,
   "metadata": {},
   "outputs": [],
   "source": []
  },
  {
   "cell_type": "markdown",
   "metadata": {},
   "source": [
    "Реализовать алгоритм Рабина-Карпа (простую версию, разобранную на лекции) (1 балл)\n"
   ]
  },
  {
   "cell_type": "code",
   "execution_count": 179,
   "metadata": {},
   "outputs": [
    {
     "name": "stdout",
     "output_type": "stream",
     "text": [
      "Out is [1]\n",
      "Out is [0]\n",
      "Out is [1]\n",
      "Out is [2]\n",
      "Out is [1]\n",
      "Out is [0, 5]\n",
      "Out is [0, 5]\n",
      "Out is -1\n",
      "Out is -1\n",
      "Out is [1]\n",
      "Out is [0]\n"
     ]
    }
   ],
   "source": [
    "def make_hash(string):\n",
    "    d = {\"a\":1, \"t\":2, \"g\":3, \"c\":4}\n",
    "    out = 0\n",
    "    #print(list(string))\n",
    "    for i in list(string):\n",
    "        #print(i)\n",
    "        out = out*10 + d[i]\n",
    "    #print(\"make_hash\", string, out)\n",
    "    return int(out)\n",
    "\n",
    "\n",
    "def rabin_karp(P, T):\n",
    "    if len(P) > len(T) or len(P) == 0 or len(T) == 0:\n",
    "        return -1\n",
    "    \n",
    "    pattern_hash = make_hash(P)\n",
    "    #print(\"pattern_hash is\", pattern_hash, P)\n",
    "    text_hash = make_hash(T[0:len(P)])\n",
    "    #print(\"text_hash is\", text_hash, T[0:len(P)])\n",
    "    f = []\n",
    "    if text_hash == pattern_hash:\n",
    "        f.append(0)\n",
    "    for i in range(1, len(T) - len(P) + 1):\n",
    "        #print(i)\n",
    "        #print(T, T[len(P) + i -1])\n",
    "        text_hash = text_hash % (10 ** (len(P) - 1)) * 10 + make_hash(T[len(P) + i -1])\n",
    "        #print(pattern_hash, text_hash)\n",
    "        if text_hash == pattern_hash:\n",
    "            f.append(i)\n",
    "    return f\n",
    "\n",
    "print(\"Out is\", rabin_karp(\"ct\", \"actgc\"))\n",
    "print(\"Out is\", rabin_karp(\"ac\", \"actgc\"))\n",
    "print(\"Out is\", rabin_karp(\"ctg\", \"actgc\"))\n",
    "print(\"Out is\", rabin_karp(\"tg\", \"actgc\"))\n",
    "print(\"Out is\", rabin_karp(\"ctgc\", \"actgc\"))\n",
    "print(\"Out is\", rabin_karp(\"actgc\", \"actgcactgc\"))\n",
    "print(\"Out is\", rabin_karp(\"a\", \"actgca\"))\n",
    "print(\"Out is\", rabin_karp(\"actgcaactgcaactgcaactgca\", \"actgca\"))\n",
    "print(\"Out is\", rabin_karp(\"ctgctgctg\", \"actgca\"))\n",
    "print(\"Out is\", rabin_karp(\"ctg\", \"actgca\"))\n",
    "print(\"Out is\", rabin_karp(\"ac\", \"actgca\"))"
   ]
  },
  {
   "cell_type": "code",
   "execution_count": null,
   "metadata": {},
   "outputs": [],
   "source": []
  }
 ],
 "metadata": {
  "kernelspec": {
   "display_name": "Python 3",
   "language": "python",
   "name": "python3"
  },
  "language_info": {
   "codemirror_mode": {
    "name": "ipython",
    "version": 3
   },
   "file_extension": ".py",
   "mimetype": "text/x-python",
   "name": "python",
   "nbconvert_exporter": "python",
   "pygments_lexer": "ipython3",
   "version": "3.6.5"
  }
 },
 "nbformat": 4,
 "nbformat_minor": 2
}
