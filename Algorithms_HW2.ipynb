{
 "cells": [
  {
   "cell_type": "markdown",
   "metadata": {},
   "source": [
    "# Бинарный поиск, сортировка слиянием. Домашнее задание."
   ]
  },
  {
   "cell_type": "markdown",
   "metadata": {},
   "source": [
    "1. (1 балл) Написать бинарный поиск, принимающий на вход массив без повторяющихся элементов (проверять не надо) и искомый элемент. Построить график зависимости среднего времени работы от длины списка. "
   ]
  },
  {
   "cell_type": "raw",
   "metadata": {},
   "source": [
    "Есть массив N\n",
    "Он делает к сравнений \n",
    "Всего исходов 3^k\n",
    "3^k-1 3^k-2 ...\n",
    "3^k-1 + 3^k-2 + ... < 2*3^k >=N\n",
    "-> k >= log(N)\n",
    "лучше нельзя"
   ]
  },
  {
   "cell_type": "code",
   "execution_count": 1,
   "metadata": {},
   "outputs": [],
   "source": [
    "import numpy as np\n",
    "import time\n",
    "import random\n",
    "import sys\n",
    "import matplotlib.pyplot as plt\n",
    "%matplotlib inline\n",
    "\n",
    "sys.setrecursionlimit = 10**3 #in case you use bigger test set \n",
    "\n",
    "def collect_time_stats(function_to_decorate):\n",
    "    test = [list(range(n)) for n in range(10, 10000, 1000)] + [list(range(n)) for n in range(10000, 100000, 10000)]\n",
    "    lengthes = []\n",
    "    avg_times = []\n",
    "    def wrapper():\n",
    "        for x in test:\n",
    "            all_times = []\n",
    "            for elm in range(len(x) + 1):\n",
    "                start = time.time()\n",
    "                function_to_decorate(x, elm)\n",
    "                end = time.time()\n",
    "                all_times.append(end-start)\n",
    "            lengthes.append(len(x))\n",
    "            avg_times.append(np.mean(all_times))\n",
    "        return lengthes, avg_times\n",
    "    return wrapper"
   ]
  },
  {
   "cell_type": "markdown",
   "metadata": {},
   "source": [
    "@collect_time_stats \n",
    "def bin_search(x, elm, l, r): \n",
    "\n",
    "    mid = (l + r)//2\n",
    "    \n",
    "    if r - l == 0: \n",
    "        return -1\n",
    " \n",
    "    if x[mid] == elm: \n",
    "        return mid \n",
    "         \n",
    "    if x[mid] > elm: \n",
    "        return bin_search(x, elm, l, mid-1) \n",
    " \n",
    "    if x[mid] < elm: \n",
    "        return bin_search(x, elm, mid+1, r)"
   ]
  },
  {
   "cell_type": "code",
   "execution_count": 1,
   "metadata": {},
   "outputs": [
    {
     "name": "stdout",
     "output_type": "stream",
     "text": [
      "[1, 2, 3, 4, 5, 6, 7, 8, 9, 10, 11, 12, 13, 14]\n",
      "8\n",
      "4\n",
      "None\n"
     ]
    }
   ],
   "source": [
    "def bin_surch(x, elm, start, end):\n",
    "    mid = (start + end)//2\n",
    "    print(mid)\n",
    "    if end - start == 0:\n",
    "        return -1\n",
    "    mid_elm = x[mid]\n",
    "    if mid_elm == elm:\n",
    "        return mid\n",
    "    if mid_elm < elm:\n",
    "        bin_surch(x, elm, mid+1, end)\n",
    "    else:\n",
    "        bin_surch(x, elm, start, mid)\n",
    "    \n",
    "a = [i for i in range(1,15)]\n",
    "print(a)\n",
    "print(bin_surch(a, 5, 1, 15))"
   ]
  },
  {
   "cell_type": "code",
   "execution_count": 2,
   "metadata": {},
   "outputs": [],
   "source": [
    "@collect_time_stats\n",
    "def BinSearch(li, x):\n",
    "    i = 0\n",
    "    j = len(li)-1\n",
    "    m = int(j/2)\n",
    "    while li[m] != x and i < j:\n",
    "        if x > li[m]:\n",
    "            i = m+1\n",
    "        else:\n",
    "            j = m-1\n",
    "        m = int((i+j)/2)\n",
    "    if i > j:\n",
    "        return -1\n",
    "    else:\n",
    "        return m"
   ]
  },
  {
   "cell_type": "code",
   "execution_count": 3,
   "metadata": {},
   "outputs": [
    {
     "data": {
      "image/png": "[encoded data removed]",
      "text/plain": [
       "<Figure size 432x288 with 1 Axes>"
      ]
     },
     "metadata": {},
     "output_type": "display_data"
    }
   ],
   "source": [
    "x, y = BinSearch()\n",
    "plt.plot(x, y, \"bo\")\n",
    "plt.show()"
   ]
  },
  {
   "cell_type": "markdown",
   "metadata": {},
   "source": [
    "&nbsp;2. (1 балл) Написать наивный поиск на любом языке программирования. Построить на одном графике зависимости среднего времени работы от длины списка для наивного и бинарного поиска. Опять-таки, в списке нет повторяющихся элементов. "
   ]
  },
  {
   "cell_type": "markdown",
   "metadata": {},
   "source": [
    "Просто по порядку"
   ]
  },
  {
   "cell_type": "code",
   "execution_count": 4,
   "metadata": {},
   "outputs": [],
   "source": [
    "@collect_time_stats\n",
    "def naive_search(x, elm):\n",
    "    for i in range(len(x)):\n",
    "        if x[i] == elm:\n",
    "            return i "
   ]
  },
  {
   "cell_type": "code",
   "execution_count": 31,
   "metadata": {},
   "outputs": [
    {
     "data": {
      "image/png": "[encoded data removed]",
      "text/plain": [
       "<Figure size 432x288 with 1 Axes>"
      ]
     },
     "metadata": {},
     "output_type": "display_data"
    }
   ],
   "source": [
    "x, y = naive_search()\n",
    "plt.plot(x, y, marker='o')\n",
    "a, b = BinSearch()\n",
    "plt.plot(a, b, marker='s')\n",
    "plt.show()"
   ]
  },
  {
   "cell_type": "markdown",
   "metadata": {},
   "source": [
    "&nbsp;3. (1 балл) Написать программу извлечения корня из 2 с заданной точностью с помощью бинарного поиска. "
   ]
  },
  {
   "cell_type": "markdown",
   "metadata": {},
   "source": [
    "Зажать и сравнить пока точности хватит"
   ]
  },
  {
   "cell_type": "code",
   "execution_count": 3,
   "metadata": {},
   "outputs": [
    {
     "name": "stdout",
     "output_type": "stream",
     "text": [
      "3.1622772216796875\n",
      "3.1622776601683795\n"
     ]
    }
   ],
   "source": [
    "def SqrtSearch(num, per, l, r):\n",
    "\n",
    "    mid = (l + r)/2\n",
    "    #print(mid, l, r)\n",
    "    \n",
    "    if len(str(mid)) >= per: \n",
    "        return mid\n",
    " \n",
    "    if num == float(mid*mid):\n",
    "        return mid \n",
    "         \n",
    "    if num > float(mid*mid): \n",
    "        return SqrtSearch(num, per, mid-1, r) \n",
    " \n",
    "    if num < float(mid*mid): \n",
    "        return SqrtSearch(num, per, l, mid+1) \n",
    "    \n",
    "    \n",
    "num = float(10)\n",
    "per = 18\n",
    "l = 0\n",
    "r = max(1, num)\n",
    "#print(l, r)\n",
    "print(SqrtSearch(num, per, l, r))\n",
    "\n",
    "import math\n",
    "print(math.sqrt(num))"
   ]
  },
  {
   "cell_type": "markdown",
   "metadata": {},
   "source": [
    "&nbsp;4. (2 балла) Для отсортированного списка с повторяющимися (!) элементами написать бинарный поиск, выдающий самое первое вхождение искомого элемента. Например, если в списке [1, 2, 3, 3, 3, 6, 8] ищем 3 - правильный ответ 2."
   ]
  },
  {
   "cell_type": "markdown",
   "metadata": {},
   "source": [
    "нужно изменить  mid "
   ]
  },
  {
   "cell_type": "code",
   "execution_count": 1,
   "metadata": {},
   "outputs": [],
   "source": [
    "def bin_search(x, elm, l, r): \n",
    "    if elm not in x:\n",
    "        return -1\n",
    "\n",
    "    mid = (l + r)//2\n",
    "    #print(l, mid, r)\n",
    "    \n",
    "    if r - l == 0: \n",
    "        return mid\n",
    " \n",
    "    if x[mid] == elm:\n",
    "        if x[mid-1] == elm:\n",
    "            return bin_search(x, elm, l, mid-1)\n",
    "        else:\n",
    "            return mid \n",
    "         \n",
    "    if x[mid] > elm: \n",
    "        return bin_search(x, elm, l, mid-1) \n",
    " \n",
    "    if x[mid] < elm: \n",
    "        return bin_search(x, elm, mid+1, r)"
   ]
  },
  {
   "cell_type": "code",
   "execution_count": 3,
   "metadata": {},
   "outputs": [
    {
     "name": "stdout",
     "output_type": "stream",
     "text": [
      "-1\n"
     ]
    }
   ],
   "source": [
    "x = [1, 2, 3, 3, 3, 6, 6, 6, 6, 8, 10, 10, 10]\n",
    "print(bin_search(x, 2.5, 0, len(x)-1))"
   ]
  },
  {
   "cell_type": "markdown",
   "metadata": {},
   "source": [
    "&nbsp;5. (2 балла) Написать merge sort. Продемонстрировать график зависимости среднего времени работы от длины списка. Подсказка: случайные списки можно генерировать при помощи numpy.random.choice()."
   ]
  },
  {
   "cell_type": "markdown",
   "metadata": {},
   "source": [
    "def mergeSort(alist):\n",
    "    print(\"Splitting \",alist)\n",
    "    if len(alist)>1:\n",
    "        mid = len(alist)//2\n",
    "        lefthalf = alist[:mid]\n",
    "        righthalf = alist[mid:]\n",
    "\n",
    "        mergeSort(lefthalf)\n",
    "        mergeSort(righthalf)\n",
    "\n",
    "        i=0\n",
    "        j=0\n",
    "        k=0\n",
    "        while i < len(lefthalf) and j < len(righthalf):\n",
    "            if lefthalf[i] < righthalf[j]:\n",
    "                alist[k]=lefthalf[i]\n",
    "                i=i+1\n",
    "            else:\n",
    "                alist[k]=righthalf[j]\n",
    "                j=j+1\n",
    "            k=k+1\n",
    "\n",
    "        while i < len(lefthalf):\n",
    "            alist[k]=lefthalf[i]\n",
    "            i=i+1\n",
    "            k=k+1\n",
    "\n",
    "        while j < len(righthalf):\n",
    "            alist[k]=righthalf[j]\n",
    "            j=j+1\n",
    "            k=k+1\n",
    "    print(\"Merging \",alist)\n",
    "\n",
    "alist = [54,26,93,17,77,31,44,55,20]\n",
    "mergeSort(alist)\n",
    "print(alist)\n"
   ]
  },
  {
   "cell_type": "code",
   "execution_count": 34,
   "metadata": {},
   "outputs": [
    {
     "name": "stdout",
     "output_type": "stream",
     "text": [
      "[17, 20, 26, 31, 44, 54, 55, 77, 93, 1000]\n",
      "[54, 26, 93, 17, 77, 31, 44, 55, 20, 1000]\n"
     ]
    }
   ],
   "source": [
    "def merge_sort(x):\n",
    "    l = len(x)\n",
    "    if l <= 1:\n",
    "        return x\n",
    "    mid = l//2\n",
    "    p1 = merge_sort(x[:mid])\n",
    "    p2 = merge_sort(x[mid:])\n",
    "    \n",
    "    new = []\n",
    "    while len(p1)*len(p2) > 0:\n",
    "        if p1[0] > p2[0]:\n",
    "            new.append(p2.pop(0))\n",
    "        else:\n",
    "            new.append(p1.pop(0))\n",
    "    new.extend(p1)\n",
    "    new.extend(p2)\n",
    "    return new\n",
    "  \n",
    "alist = [54,26,93,17,77,31,44,55,20,1000]\n",
    "print(merge_sort(alist))\n",
    "print(alist)"
   ]
  },
  {
   "cell_type": "markdown",
   "metadata": {},
   "source": [
    "доп. 1. (1 балл) Написать бинарный поиск без рекурсии."
   ]
  },
  {
   "cell_type": "code",
   "execution_count": null,
   "metadata": {},
   "outputs": [],
   "source": [
    "@collect_time_stats\n",
    "def BinSearch(li, x):\n",
    "    i = 0\n",
    "    j = len(li)-1\n",
    "    m = int(j/2)\n",
    "    while li[m] != x and i < j:\n",
    "        if x > li[m]:\n",
    "            i = m+1\n",
    "        else:\n",
    "            j = m-1\n",
    "        m = int((i+j)/2)\n",
    "    if i > j:\n",
    "        return -1\n",
    "    else:\n",
    "        return m"
   ]
  },
  {
   "cell_type": "markdown",
   "metadata": {},
   "source": [
    "доп. 2. (1 балл) Для списка с повторяющимися элементами написать бинарный поиск, выдающий весь диапазон, в котором находится искомое число."
   ]
  },
  {
   "cell_type": "code",
   "execution_count": 4,
   "metadata": {},
   "outputs": [],
   "source": [
    "def bin_search_for_range(x, elm, l, r):\n",
    "    if elm not in x:\n",
    "        return -1\n",
    "\n",
    "    mid = (l + r)//2\n",
    "    #print(l, mid, r)\n",
    "    \n",
    "    if r - l == 0: \n",
    "        return mid\n",
    " \n",
    "    if x[mid] == elm:\n",
    "        k_r = 1\n",
    "        k_l = 1\n",
    "        i = True\n",
    "        while i == True:\n",
    "            if mid+k_r <= len(x)-1:\n",
    "                if x[mid+k_r] == elm:\n",
    "                    k_r += 1\n",
    "                else:\n",
    "                    i = False\n",
    "            else:\n",
    "                i = False\n",
    "        j = True\n",
    "        while j == True:\n",
    "            if mid-k_l >= 0:\n",
    "                if x[mid-k_l] == elm:\n",
    "                    k_l += 1\n",
    "                else:\n",
    "                    j = False\n",
    "            else:\n",
    "                j = False\n",
    "        return mid - k_l + 1, k_r + mid - 1             \n",
    " \n",
    "         \n",
    "    if x[mid] > elm: \n",
    "        return bin_search_for_range(x, elm, l, mid-1) \n",
    " \n",
    "    if x[mid] < elm: \n",
    "        return bin_search_for_range(x, elm, mid+1, r)"
   ]
  },
  {
   "cell_type": "code",
   "execution_count": 5,
   "metadata": {},
   "outputs": [
    {
     "name": "stdout",
     "output_type": "stream",
     "text": [
      "-1\n"
     ]
    }
   ],
   "source": [
    "x = [1, 2, 3, 3, 3, 6, 6, 6, 6, 8, 10, 10, 10]\n",
    "print(bin_search_for_range(x, -100, 0, len(x)-1))"
   ]
  },
  {
   "cell_type": "markdown",
   "metadata": {},
   "source": [
    "доп. 3. (1 балл) Напишите сортировку Шелла. Проверьте ее работу на ряде автоматически сгенерированных случайных примеров."
   ]
  },
  {
   "cell_type": "code",
   "execution_count": 4,
   "metadata": {},
   "outputs": [],
   "source": [
    "import numpy as np\n",
    "import time\n",
    "import random\n",
    "import sys\n",
    "import matplotlib.pyplot as plt\n",
    "%matplotlib inline\n",
    "\n",
    "sys.setrecursionlimit = 10**3 #in case you use bigger test set \n",
    "\n",
    "def collect_time_stats_shell_sort(function_to_decorate):\n",
    "    test = [list(np.random.choice(n, n, replace=False)) for n in range(10, 10000, 1000)] + [list(np.random.choice(n, n, replace=False)) for n in range(10000, 100000, 10000)]\n",
    "    lengthes = []\n",
    "    avg_times = []\n",
    "    def wrapper():\n",
    "        for x in test:\n",
    "            all_times = []\n",
    "            start = time.time()\n",
    "            function_to_decorate(x)\n",
    "            end = time.time()\n",
    "            all_times.append(end-start)\n",
    "            lengthes.append(len(x))\n",
    "            avg_times.append(np.mean(all_times))\n",
    "        return lengthes, avg_times\n",
    "    return wrapper"
   ]
  },
  {
   "cell_type": "code",
   "execution_count": 5,
   "metadata": {},
   "outputs": [],
   "source": [
    "@collect_time_stats_shell_sort\n",
    "def shellSort(alist):\n",
    "    inkrement = len(alist)//2\n",
    "    #print(sublistcount)\n",
    "    while inkrement > 0:\n",
    "        \n",
    "        for startposition in range(inkrement):\n",
    "            alist = gapInsertionSort(alist,startposition,inkrement)\n",
    "\n",
    "        inkrement = inkrement // 2\n",
    "        #print(sublistcount)\n",
    "    return alist\n",
    "\n",
    "def gapInsertionSort(alist,start,gap):\n",
    "    for i in range(start+gap,len(alist),gap):\n",
    "\n",
    "        currentvalue = alist[i]\n",
    "        position = i\n",
    "\n",
    "        while position>=gap and alist[position-gap]>currentvalue:\n",
    "            alist[position]=alist[position-gap]\n",
    "            position = position-gap\n",
    "\n",
    "        alist[position]=currentvalue\n",
    "    return alist"
   ]
  },
  {
   "cell_type": "code",
   "execution_count": 10,
   "metadata": {},
   "outputs": [
    {
     "data": {
      "image/png": "[encoded data removed]",
      "text/plain": [
       "<Figure size 432x288 with 1 Axes>"
      ]
     },
     "metadata": {},
     "output_type": "display_data"
    }
   ],
   "source": [
    "a, b = BinSearch()\n",
    "plt.plot(a, b, 'bo')\n",
    "plt.show()"
   ]
  },
  {
   "cell_type": "code",
   "execution_count": 11,
   "metadata": {},
   "outputs": [
    {
     "data": {
      "image/png": "[encoded data removed]",
      "text/plain": [
       "<Figure size 432x288 with 1 Axes>"
      ]
     },
     "metadata": {},
     "output_type": "display_data"
    }
   ],
   "source": [
    "c, d = shellSort()\n",
    "plt.plot(c, d, \"bo\")\n",
    "plt.show()"
   ]
  },
  {
   "cell_type": "code",
   "execution_count": 12,
   "metadata": {},
   "outputs": [
    {
     "ename": "ValueError",
     "evalue": "Illegal format string \"po\"; two marker symbols",
     "output_type": "error",
     "traceback": [
      "\u001b[0;31m---------------------------------------------------------------------------\u001b[0m",
      "\u001b[0;31mValueError\u001b[0m                                Traceback (most recent call last)",
      "\u001b[0;32m<ipython-input-12-bc8afc2154ff>\u001b[0m in \u001b[0;36m<module>\u001b[0;34m()\u001b[0m\n\u001b[1;32m      2\u001b[0m \u001b[0mplt\u001b[0m\u001b[0;34m.\u001b[0m\u001b[0mplot\u001b[0m\u001b[0;34m(\u001b[0m\u001b[0ma\u001b[0m\u001b[0;34m,\u001b[0m \u001b[0mb\u001b[0m\u001b[0;34m,\u001b[0m \u001b[0;34m\"bo\"\u001b[0m\u001b[0;34m)\u001b[0m\u001b[0;34m\u001b[0m\u001b[0m\n\u001b[1;32m      3\u001b[0m \u001b[0mc\u001b[0m\u001b[0;34m,\u001b[0m \u001b[0md\u001b[0m \u001b[0;34m=\u001b[0m \u001b[0mshellSort\u001b[0m\u001b[0;34m(\u001b[0m\u001b[0;34m)\u001b[0m\u001b[0;34m\u001b[0m\u001b[0m\n\u001b[0;32m----> 4\u001b[0;31m \u001b[0mplt\u001b[0m\u001b[0;34m.\u001b[0m\u001b[0mplot\u001b[0m\u001b[0;34m(\u001b[0m\u001b[0mc\u001b[0m\u001b[0;34m,\u001b[0m \u001b[0md\u001b[0m\u001b[0;34m,\u001b[0m \u001b[0;34m\"po\"\u001b[0m\u001b[0;34m)\u001b[0m\u001b[0;34m\u001b[0m\u001b[0m\n\u001b[0m\u001b[1;32m      5\u001b[0m \u001b[0mplt\u001b[0m\u001b[0;34m.\u001b[0m\u001b[0mshow\u001b[0m\u001b[0;34m(\u001b[0m\u001b[0;34m)\u001b[0m\u001b[0;34m\u001b[0m\u001b[0m\n",
      "\u001b[0;32m~/anaconda3/lib/python3.6/site-packages/matplotlib/pyplot.py\u001b[0m in \u001b[0;36mplot\u001b[0;34m(*args, **kwargs)\u001b[0m\n\u001b[1;32m   3356\u001b[0m                       mplDeprecation)\n\u001b[1;32m   3357\u001b[0m     \u001b[0;32mtry\u001b[0m\u001b[0;34m:\u001b[0m\u001b[0;34m\u001b[0m\u001b[0m\n\u001b[0;32m-> 3358\u001b[0;31m         \u001b[0mret\u001b[0m \u001b[0;34m=\u001b[0m \u001b[0max\u001b[0m\u001b[0;34m.\u001b[0m\u001b[0mplot\u001b[0m\u001b[0;34m(\u001b[0m\u001b[0;34m*\u001b[0m\u001b[0margs\u001b[0m\u001b[0;34m,\u001b[0m \u001b[0;34m**\u001b[0m\u001b[0mkwargs\u001b[0m\u001b[0;34m)\u001b[0m\u001b[0;34m\u001b[0m\u001b[0m\n\u001b[0m\u001b[1;32m   3359\u001b[0m     \u001b[0;32mfinally\u001b[0m\u001b[0;34m:\u001b[0m\u001b[0;34m\u001b[0m\u001b[0m\n\u001b[1;32m   3360\u001b[0m         \u001b[0max\u001b[0m\u001b[0;34m.\u001b[0m\u001b[0m_hold\u001b[0m \u001b[0;34m=\u001b[0m \u001b[0mwashold\u001b[0m\u001b[0;34m\u001b[0m\u001b[0m\n",
      "\u001b[0;32m~/anaconda3/lib/python3.6/site-packages/matplotlib/__init__.py\u001b[0m in \u001b[0;36minner\u001b[0;34m(ax, *args, **kwargs)\u001b[0m\n\u001b[1;32m   1853\u001b[0m                         \u001b[0;34m\"the Matplotlib list!)\"\u001b[0m \u001b[0;34m%\u001b[0m \u001b[0;34m(\u001b[0m\u001b[0mlabel_namer\u001b[0m\u001b[0;34m,\u001b[0m \u001b[0mfunc\u001b[0m\u001b[0;34m.\u001b[0m\u001b[0m__name__\u001b[0m\u001b[0;34m)\u001b[0m\u001b[0;34m,\u001b[0m\u001b[0;34m\u001b[0m\u001b[0m\n\u001b[1;32m   1854\u001b[0m                         RuntimeWarning, stacklevel=2)\n\u001b[0;32m-> 1855\u001b[0;31m             \u001b[0;32mreturn\u001b[0m \u001b[0mfunc\u001b[0m\u001b[0;34m(\u001b[0m\u001b[0max\u001b[0m\u001b[0;34m,\u001b[0m \u001b[0;34m*\u001b[0m\u001b[0margs\u001b[0m\u001b[0;34m,\u001b[0m \u001b[0;34m**\u001b[0m\u001b[0mkwargs\u001b[0m\u001b[0;34m)\u001b[0m\u001b[0;34m\u001b[0m\u001b[0m\n\u001b[0m\u001b[1;32m   1856\u001b[0m \u001b[0;34m\u001b[0m\u001b[0m\n\u001b[1;32m   1857\u001b[0m         inner.__doc__ = _add_data_doc(inner.__doc__,\n",
      "\u001b[0;32m~/anaconda3/lib/python3.6/site-packages/matplotlib/axes/_axes.py\u001b[0m in \u001b[0;36mplot\u001b[0;34m(self, *args, **kwargs)\u001b[0m\n\u001b[1;32m   1525\u001b[0m         \u001b[0mkwargs\u001b[0m \u001b[0;34m=\u001b[0m \u001b[0mcbook\u001b[0m\u001b[0;34m.\u001b[0m\u001b[0mnormalize_kwargs\u001b[0m\u001b[0;34m(\u001b[0m\u001b[0mkwargs\u001b[0m\u001b[0;34m,\u001b[0m \u001b[0m_alias_map\u001b[0m\u001b[0;34m)\u001b[0m\u001b[0;34m\u001b[0m\u001b[0m\n\u001b[1;32m   1526\u001b[0m \u001b[0;34m\u001b[0m\u001b[0m\n\u001b[0;32m-> 1527\u001b[0;31m         \u001b[0;32mfor\u001b[0m \u001b[0mline\u001b[0m \u001b[0;32min\u001b[0m \u001b[0mself\u001b[0m\u001b[0;34m.\u001b[0m\u001b[0m_get_lines\u001b[0m\u001b[0;34m(\u001b[0m\u001b[0;34m*\u001b[0m\u001b[0margs\u001b[0m\u001b[0;34m,\u001b[0m \u001b[0;34m**\u001b[0m\u001b[0mkwargs\u001b[0m\u001b[0;34m)\u001b[0m\u001b[0;34m:\u001b[0m\u001b[0;34m\u001b[0m\u001b[0m\n\u001b[0m\u001b[1;32m   1528\u001b[0m             \u001b[0mself\u001b[0m\u001b[0;34m.\u001b[0m\u001b[0madd_line\u001b[0m\u001b[0;34m(\u001b[0m\u001b[0mline\u001b[0m\u001b[0;34m)\u001b[0m\u001b[0;34m\u001b[0m\u001b[0m\n\u001b[1;32m   1529\u001b[0m             \u001b[0mlines\u001b[0m\u001b[0;34m.\u001b[0m\u001b[0mappend\u001b[0m\u001b[0;34m(\u001b[0m\u001b[0mline\u001b[0m\u001b[0;34m)\u001b[0m\u001b[0;34m\u001b[0m\u001b[0m\n",
      "\u001b[0;32m~/anaconda3/lib/python3.6/site-packages/matplotlib/axes/_base.py\u001b[0m in \u001b[0;36m_grab_next_args\u001b[0;34m(self, *args, **kwargs)\u001b[0m\n\u001b[1;32m    404\u001b[0m                 \u001b[0mthis\u001b[0m \u001b[0;34m+=\u001b[0m \u001b[0margs\u001b[0m\u001b[0;34m[\u001b[0m\u001b[0;36m0\u001b[0m\u001b[0;34m]\u001b[0m\u001b[0;34m,\u001b[0m\u001b[0;34m\u001b[0m\u001b[0m\n\u001b[1;32m    405\u001b[0m                 \u001b[0margs\u001b[0m \u001b[0;34m=\u001b[0m \u001b[0margs\u001b[0m\u001b[0;34m[\u001b[0m\u001b[0;36m1\u001b[0m\u001b[0;34m:\u001b[0m\u001b[0;34m]\u001b[0m\u001b[0;34m\u001b[0m\u001b[0m\n\u001b[0;32m--> 406\u001b[0;31m             \u001b[0;32mfor\u001b[0m \u001b[0mseg\u001b[0m \u001b[0;32min\u001b[0m \u001b[0mself\u001b[0m\u001b[0;34m.\u001b[0m\u001b[0m_plot_args\u001b[0m\u001b[0;34m(\u001b[0m\u001b[0mthis\u001b[0m\u001b[0;34m,\u001b[0m \u001b[0mkwargs\u001b[0m\u001b[0;34m)\u001b[0m\u001b[0;34m:\u001b[0m\u001b[0;34m\u001b[0m\u001b[0m\n\u001b[0m\u001b[1;32m    407\u001b[0m                 \u001b[0;32myield\u001b[0m \u001b[0mseg\u001b[0m\u001b[0;34m\u001b[0m\u001b[0m\n\u001b[1;32m    408\u001b[0m \u001b[0;34m\u001b[0m\u001b[0m\n",
      "\u001b[0;32m~/anaconda3/lib/python3.6/site-packages/matplotlib/axes/_base.py\u001b[0m in \u001b[0;36m_plot_args\u001b[0;34m(self, tup, kwargs)\u001b[0m\n\u001b[1;32m    353\u001b[0m         \u001b[0mret\u001b[0m \u001b[0;34m=\u001b[0m \u001b[0;34m[\u001b[0m\u001b[0;34m]\u001b[0m\u001b[0;34m\u001b[0m\u001b[0m\n\u001b[1;32m    354\u001b[0m         \u001b[0;32mif\u001b[0m \u001b[0mlen\u001b[0m\u001b[0;34m(\u001b[0m\u001b[0mtup\u001b[0m\u001b[0;34m)\u001b[0m \u001b[0;34m>\u001b[0m \u001b[0;36m1\u001b[0m \u001b[0;32mand\u001b[0m \u001b[0misinstance\u001b[0m\u001b[0;34m(\u001b[0m\u001b[0mtup\u001b[0m\u001b[0;34m[\u001b[0m\u001b[0;34m-\u001b[0m\u001b[0;36m1\u001b[0m\u001b[0;34m]\u001b[0m\u001b[0;34m,\u001b[0m \u001b[0msix\u001b[0m\u001b[0;34m.\u001b[0m\u001b[0mstring_types\u001b[0m\u001b[0;34m)\u001b[0m\u001b[0;34m:\u001b[0m\u001b[0;34m\u001b[0m\u001b[0m\n\u001b[0;32m--> 355\u001b[0;31m             \u001b[0mlinestyle\u001b[0m\u001b[0;34m,\u001b[0m \u001b[0mmarker\u001b[0m\u001b[0;34m,\u001b[0m \u001b[0mcolor\u001b[0m \u001b[0;34m=\u001b[0m \u001b[0m_process_plot_format\u001b[0m\u001b[0;34m(\u001b[0m\u001b[0mtup\u001b[0m\u001b[0;34m[\u001b[0m\u001b[0;34m-\u001b[0m\u001b[0;36m1\u001b[0m\u001b[0;34m]\u001b[0m\u001b[0;34m)\u001b[0m\u001b[0;34m\u001b[0m\u001b[0m\n\u001b[0m\u001b[1;32m    356\u001b[0m             \u001b[0mtup\u001b[0m \u001b[0;34m=\u001b[0m \u001b[0mtup\u001b[0m\u001b[0;34m[\u001b[0m\u001b[0;34m:\u001b[0m\u001b[0;34m-\u001b[0m\u001b[0;36m1\u001b[0m\u001b[0;34m]\u001b[0m\u001b[0;34m\u001b[0m\u001b[0m\n\u001b[1;32m    357\u001b[0m         \u001b[0;32melif\u001b[0m \u001b[0mlen\u001b[0m\u001b[0;34m(\u001b[0m\u001b[0mtup\u001b[0m\u001b[0;34m)\u001b[0m \u001b[0;34m==\u001b[0m \u001b[0;36m3\u001b[0m\u001b[0;34m:\u001b[0m\u001b[0;34m\u001b[0m\u001b[0m\n",
      "\u001b[0;32m~/anaconda3/lib/python3.6/site-packages/matplotlib/axes/_base.py\u001b[0m in \u001b[0;36m_process_plot_format\u001b[0;34m(fmt)\u001b[0m\n\u001b[1;32m    115\u001b[0m             \u001b[0;32mif\u001b[0m \u001b[0mmarker\u001b[0m \u001b[0;32mis\u001b[0m \u001b[0;32mnot\u001b[0m \u001b[0;32mNone\u001b[0m\u001b[0;34m:\u001b[0m\u001b[0;34m\u001b[0m\u001b[0m\n\u001b[1;32m    116\u001b[0m                 raise ValueError(\n\u001b[0;32m--> 117\u001b[0;31m                     'Illegal format string \"%s\"; two marker symbols' % fmt)\n\u001b[0m\u001b[1;32m    118\u001b[0m             \u001b[0mmarker\u001b[0m \u001b[0;34m=\u001b[0m \u001b[0mc\u001b[0m\u001b[0;34m\u001b[0m\u001b[0m\n\u001b[1;32m    119\u001b[0m         \u001b[0;32melif\u001b[0m \u001b[0mc\u001b[0m \u001b[0;32min\u001b[0m \u001b[0mmcolors\u001b[0m\u001b[0;34m.\u001b[0m\u001b[0mget_named_colors_mapping\u001b[0m\u001b[0;34m(\u001b[0m\u001b[0;34m)\u001b[0m\u001b[0;34m:\u001b[0m\u001b[0;34m\u001b[0m\u001b[0m\n",
      "\u001b[0;31mValueError\u001b[0m: Illegal format string \"po\"; two marker symbols"
     ]
    },
    {
     "data": {
      "image/png": "[encoded data removed]",
      "text/plain": [
       "<Figure size 432x288 with 1 Axes>"
      ]
     },
     "metadata": {},
     "output_type": "display_data"
    }
   ],
   "source": [
    "a, b = BinSearch()\n",
    "plt.plot(a, b, \"bo\")\n",
    "c, d = shellSort()\n",
    "plt.plot(c, d, \"po\")\n",
    "plt.show()"
   ]
  },
  {
   "cell_type": "code",
   "execution_count": 69,
   "metadata": {},
   "outputs": [],
   "source": [
    "def shellSort(alist):\n",
    "    inkrement = len(alist)//2\n",
    "    #print(sublistcount)\n",
    "    while inkrement > 0:\n",
    "        \n",
    "        for startposition in range(inkrement):\n",
    "            alist = gapInsertionSort(alist,startposition,inkrement)\n",
    "\n",
    "        inkrement = inkrement // 2\n",
    "        #print(sublistcount)\n",
    "    return alist\n",
    "\n",
    "def gapInsertionSort(alist,start,gap):\n",
    "    for i in range(start+gap,len(alist),gap):\n",
    "\n",
    "        currentvalue = alist[i]\n",
    "        position = i\n",
    "\n",
    "        while position>=gap and alist[position-gap]>currentvalue:\n",
    "            alist[position]=alist[position-gap]\n",
    "            position = position-gap\n",
    "\n",
    "        alist[position]=currentvalue\n",
    "    return alist"
   ]
  },
  {
   "cell_type": "code",
   "execution_count": 70,
   "metadata": {},
   "outputs": [
    {
     "name": "stdout",
     "output_type": "stream",
     "text": [
      "[5 3 2 4 9 8 0 1 7 6]\n",
      "[0 1 2 3 4 5 6 7 8 9]\n"
     ]
    }
   ],
   "source": [
    "import numpy as np\n",
    "alist = np.random.choice(10, 10, replace=False)\n",
    "print(alist)\n",
    "print(shellSort(alist))"
   ]
  }
 ],
 "metadata": {
  "kernelspec": {
   "display_name": "Python 3",
   "language": "python",
   "name": "python3"
  },
  "language_info": {
   "codemirror_mode": {
    "name": "ipython",
    "version": 3
   },
   "file_extension": ".py",
   "mimetype": "text/x-python",
   "name": "python",
   "nbconvert_exporter": "python",
   "pygments_lexer": "ipython3",
   "version": "3.6.5"
  }
 },
 "nbformat": 4,
 "nbformat_minor": 1
}
