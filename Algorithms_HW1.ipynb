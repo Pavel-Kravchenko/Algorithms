{
 "cells": [
  {
   "cell_type": "markdown",
   "metadata": {},
   "source": [
    "1 Euclidean_algorithm\n",
    "\n",
    "(1б) Реализовать алгоритм Евклида.\n"
   ]
  },
  {
   "cell_type": "code",
   "execution_count": 9,
   "metadata": {},
   "outputs": [],
   "source": [
    "def Euclidean_algorithm(a,b):\n",
    "    while a != b:\n",
    "        if a > b:\n",
    "            a = a - b\n",
    "        else:\n",
    "            b = b - a        \n",
    "    print (a) "
   ]
  },
  {
   "cell_type": "code",
   "execution_count": 10,
   "metadata": {},
   "outputs": [
    {
     "name": "stdout",
     "output_type": "stream",
     "text": [
      "5\n"
     ]
    }
   ],
   "source": [
    "Euclidean_algorithm(5, 10)"
   ]
  },
  {
   "cell_type": "markdown",
   "metadata": {},
   "source": [
    "2 Newton\n",
    "\n",
    "(2.5б) Написать программу, вычисляющую кубический корень методом Ньютона.\n"
   ]
  },
  {
   "cell_type": "code",
   "execution_count": 4,
   "metadata": {},
   "outputs": [],
   "source": [
    "def my_3(A, max_iters=1000, eps=1e-10):\n",
    "    approx_x = A / 2\n",
    "    for it in range(max_iters):\n",
    "        prev_approx_x = approx_x\n",
    "        approx_x = (1/3)*(2*approx_x + A/approx_x**2)\n",
    "        if abs(prev_approx_x - approx_x) < eps:\n",
    "            break\n",
    "    return approx_x"
   ]
  },
  {
   "cell_type": "code",
   "execution_count": 5,
   "metadata": {},
   "outputs": [
    {
     "data": {
      "text/plain": [
       "1.259921049894873"
      ]
     },
     "execution_count": 5,
     "metadata": {},
     "output_type": "execute_result"
    }
   ],
   "source": [
    "my_3(2)"
   ]
  },
  {
   "cell_type": "code",
   "execution_count": null,
   "metadata": {},
   "outputs": [],
   "source": []
  },
  {
   "cell_type": "markdown",
   "metadata": {},
   "source": [
    "3 Sorting\n",
    "(2.5б) Написать программу, сортирующую произвольный массив любым способом, не используя встроенных функций сортировки. Ваша программа должна отрабатывать на массиве длиной 1000 за время, отличное от времени жизни Вселенной. \n"
   ]
  },
  {
   "cell_type": "code",
   "execution_count": 17,
   "metadata": {},
   "outputs": [
    {
     "name": "stdout",
     "output_type": "stream",
     "text": [
      "[0, 1, 5, 7, 8, 10, 15, 100, 4, 9, 3, 2]\n",
      "[0, 1, 5, 7, 8, 10, 15, 4, 100, 9, 3, 2]\n",
      "[0, 1, 5, 7, 8, 10, 15, 4, 9, 100, 3, 2]\n",
      "[0, 1, 5, 7, 8, 10, 15, 4, 9, 3, 100, 2]\n",
      "[0, 1, 5, 7, 8, 10, 15, 4, 9, 3, 2, 100]\n",
      "[0, 1, 5, 7, 8, 10, 4, 15, 9, 3, 2, 100]\n",
      "[0, 1, 5, 7, 8, 10, 4, 9, 15, 3, 2, 100]\n",
      "[0, 1, 5, 7, 8, 10, 4, 9, 3, 15, 2, 100]\n",
      "[0, 1, 5, 7, 8, 10, 4, 9, 3, 2, 15, 100]\n",
      "[0, 1, 5, 7, 8, 4, 10, 9, 3, 2, 15, 100]\n",
      "[0, 1, 5, 7, 8, 4, 9, 10, 3, 2, 15, 100]\n",
      "[0, 1, 5, 7, 8, 4, 9, 3, 10, 2, 15, 100]\n",
      "[0, 1, 5, 7, 8, 4, 9, 3, 2, 10, 15, 100]\n",
      "[0, 1, 5, 7, 4, 8, 9, 3, 2, 10, 15, 100]\n",
      "[0, 1, 5, 7, 4, 8, 3, 9, 2, 10, 15, 100]\n",
      "[0, 1, 5, 7, 4, 8, 3, 2, 9, 10, 15, 100]\n",
      "[0, 1, 5, 4, 7, 8, 3, 2, 9, 10, 15, 100]\n",
      "[0, 1, 5, 4, 7, 3, 8, 2, 9, 10, 15, 100]\n",
      "[0, 1, 5, 4, 7, 3, 2, 8, 9, 10, 15, 100]\n",
      "[0, 1, 4, 5, 7, 3, 2, 8, 9, 10, 15, 100]\n",
      "[0, 1, 4, 5, 3, 7, 2, 8, 9, 10, 15, 100]\n",
      "[0, 1, 4, 5, 3, 2, 7, 8, 9, 10, 15, 100]\n",
      "[0, 1, 4, 3, 5, 2, 7, 8, 9, 10, 15, 100]\n",
      "[0, 1, 4, 3, 2, 5, 7, 8, 9, 10, 15, 100]\n",
      "[0, 1, 3, 4, 2, 5, 7, 8, 9, 10, 15, 100]\n",
      "[0, 1, 3, 2, 4, 5, 7, 8, 9, 10, 15, 100]\n",
      "[0, 1, 2, 3, 4, 5, 7, 8, 9, 10, 15, 100]\n",
      "Результат [0, 1, 2, 3, 4, 5, 7, 8, 9, 10, 15, 100]\n"
     ]
    }
   ],
   "source": [
    "list_in = [0, 1, 5, 8, 7, 10, 15, 100, 4, 9, 3, 2]\n",
    "n = len(list_in)\n",
    "\n",
    "for i in range(0,n-1):\n",
    "    for j in range(0,n-1-i):\n",
    "        if list_in[j] > list_in[j+1]:\n",
    "            list_in[j],list_in[j + 1] = list_in[j + 1], list_in[j]\n",
    "            print(list_in)\n",
    "print(\"Результат\", list_in)\n"
   ]
  },
  {
   "cell_type": "markdown",
   "metadata": {},
   "source": [
    "Ceasar\n",
    "(доп 1.5б) Написать программу, кодирующую сообщение (слово из английских букв) шифром Цезаря со сдвигом t (параметр). Подсказка: можно использовать функции питона ord и chr. \n"
   ]
  },
  {
   "cell_type": "code",
   "execution_count": 6,
   "metadata": {},
   "outputs": [
    {
     "name": "stdout",
     "output_type": "stream",
     "text": [
      "bcdefghijklmnopqrstuvwxyza\n"
     ]
    }
   ],
   "source": [
    "alpha = 'abcdefghijklmnopqrstuvwxyz'\n",
    "#n = int(input())\n",
    "n = 1\n",
    "move = \"r\"\n",
    "\n",
    "l = \"abcdefghijklmnopqrstuvwxyz\"\n",
    "l = list(l)\n",
    "\n",
    "alpha = list(alpha)\n",
    "#print(alpha)\n",
    "beta = []\n",
    "for i in alpha:\n",
    "    beta.append(ord(i) - 97) \n",
    "#print(beta)\n",
    "\n",
    "\n",
    "out_l = []\n",
    "for i in l:\n",
    "    if move == \"r\":\n",
    "        p = (ord(i) - 97 + n) % 26\n",
    "        if p > 25:\n",
    "            p = p - 26\n",
    "        result = chr(p + 97)\n",
    "        #print(i, \"-->\", result)\n",
    "        \n",
    "    if move == \"l\":\n",
    "        p = (ord(i) - 97 - n) % 26\n",
    "        if p < 0:\n",
    "            p = 24 - p\n",
    "        result = chr(p + 97)\n",
    "        #print(i, \"-->\", result)\n",
    "    out_l.append(result) \n",
    "out = \"\".join(out_l)\n",
    "print(out)"
   ]
  },
  {
   "cell_type": "markdown",
   "metadata": {},
   "source": [
    "Машина Тьюринга. Реализовывать в виде программы на сайте http://morphett.info/turing/turing.html. \n",
    "(1б) Алфавит состоит из букв a, b и _ (пробел). В пустых клетках ленты стоят пробелы. На ленте написано слово, не содержащее пробелов. Изначально машина стоит на первой букве. Заменить в слове все a на b, а b на a.\n",
    "Пример: abba_ -> baab_\n"
   ]
  },
  {
   "cell_type": "raw",
   "metadata": {},
   "source": [
    "машина тьюринга \n",
    "\n",
    "лента \n",
    "алфавит + пробелы\n",
    "головка пишет читает шагает \n",
    "\n",
    "автомат в нескольких состояниях Q q1 q2 q3 ... qt\n",
    "\n",
    "state letter write move new_state\n",
    "\n",
    "Все алгоритмы могут быть описаны так \n",
    "\n",
    "\n",
    "Задания \n",
    "1 print(a, b, c)\n",
    "\n",
    "0 _ a r s1\n",
    "s1 _ b r s2\n",
    "s2 _ c r s3\n",
    "\n",
    "2 abbbab -> _abbbab\n",
    "\n",
    "0 a * r 0\n",
    "0 b * r 0\n",
    "0 _ * l s1\n",
    "s1 a _ r s2a\n",
    "s2a _ a l 0\n",
    "s1 b _ r s2b\n",
    "s2b _ b l 0\n",
    "s1 _ * * helt\n",
    "\n",
    "или \n",
    "\n",
    "0 a _ r sa\n",
    "0 b _ r sb\n",
    "sa a a r sa\n",
    "sa b a r sb\n",
    "sb b b r sb\n",
    "sb a b r sa\n",
    "sa _ a r halt\n",
    "sb _ b r halt\n",
    "\n",
    "3 abbba_abbba\n"
   ]
  },
  {
   "cell_type": "code",
   "execution_count": null,
   "metadata": {},
   "outputs": [],
   "source": [
    "abba -> baab"
   ]
  },
  {
   "cell_type": "code",
   "execution_count": null,
   "metadata": {},
   "outputs": [],
   "source": [
    "0 a # r 0\n",
    "0 b $ r 0\n",
    "0 _ _ l s1\n",
    "s1 # b l s1\n",
    "s1 $ a l s1\n",
    "s1 _ _ r halt"
   ]
  },
  {
   "cell_type": "markdown",
   "metadata": {},
   "source": [
    "(доп 1.5б) Алфавит состоит из цифр 0, 1, и знаков +, =,  _ (пробел). На ленте написано выражение вида = число + число. Изначально машина стоит на знаке =. Написать перед знаком равенства сумму чисел в двоичной системе исчисления.\n",
    "Пример входа: =111+101\n",
    "Для него выход: 1100=111+101\n"
   ]
  },
  {
   "cell_type": "code",
   "execution_count": null,
   "metadata": {},
   "outputs": [],
   "source": [
    "1100=111+101"
   ]
  },
  {
   "cell_type": "code",
   "execution_count": null,
   "metadata": {},
   "outputs": [],
   "source": [
    "0 = * r 0\n",
    "0 0 * r 0\n",
    "0 1 * r 0\n",
    "0 + * l 1\n",
    "0 x * l 1\n",
    "0 y * l 1\n",
    "\n",
    "\n",
    "1 0 x l 1x\n",
    "1x 0 * l 1x\n",
    "1x 1 * l 1x\n",
    "1x = * l 2x\n",
    "2x 0 * l 2x\n",
    "2x 1 * l 2x\n",
    "2x _ 0 r 0 \n",
    "\n",
    "1 1 y l 1y\n",
    "1y 0 * l 1y\n",
    "1y 1 * l 1y\n",
    "1y = * l 2y\n",
    "2y 0 * l 2y\n",
    "2y 1 * l 2y\n",
    "2y _ 1 r 0 \n",
    "\n",
    "1 = * r s0\n",
    "s0 x * r s0\n",
    "s0 y * r s0 \n",
    "s0 + * r s0\n",
    "s0 0 * r s0 \n",
    "s0 1 * r s0 \n",
    "s0 = * r s0\n",
    "s0 _ * l findnum \n",
    "\n",
    "findnum 0 * * 2\n",
    "findnum 1 * * 2\n",
    "findnum x * l findnum\n",
    "findnum y * l findnum\n",
    "findnum + * l findnum\n",
    "findnum = * l findnum_ch\n",
    "findnum_ch x * l findnum_ch\n",
    "findnum_ch y * l findnum_ch\n",
    "findnum_ch 0 x l findnum_ch\n",
    "findnum_ch 1 y l findnum_ch\n",
    "findnum_ch _ * r end\n",
    "\n",
    "2 0 x l 3x\n",
    "2 1 y l 3y\n",
    "2 _ _ l 7\n",
    "3x = * l 4x\n",
    "3x 0 * l 3x\n",
    "3x 1 * l 3x\n",
    "3x x * l 3x\n",
    "3x y * l 3x\n",
    "3x + * l 3x\n",
    "3y = * l 4y\n",
    "3y 0 * l 3y\n",
    "3y 1 * l 3y\n",
    "3y x * l 3y\n",
    "3y y * l 3y\n",
    "3y + * l 3y\n",
    "\n",
    "4x 0 x r s0\n",
    "4x 1 y r s0\n",
    "4x _ x r 0\n",
    "4x * * l 4x    ; skip the x/y's\n",
    "4y 0 1 * 5\n",
    "4y 1 0 l 4y\n",
    "4y _ 1 * 5\n",
    "4y * * l 4y    ; skip the x/y's\n",
    "5 = * l 6\n",
    "5 x x l 6\n",
    "5 y y l 6\n",
    "5 _ _ l 6\n",
    "5 * * r 5\n",
    "6 0 x r s0\n",
    "6 1 y r s0\n",
    "\n",
    "end x 0 r end\n",
    "end y 1 r end\n",
    "end = * r end\n",
    "end + * r end\n",
    "end _ * r halt\n",
    "\n",
    "\n"
   ]
  }
 ],
 "metadata": {
  "kernelspec": {
   "display_name": "Python 3",
   "language": "python",
   "name": "python3"
  },
  "language_info": {
   "codemirror_mode": {
    "name": "ipython",
    "version": 3
   },
   "file_extension": ".py",
   "mimetype": "text/x-python",
   "name": "python",
   "nbconvert_exporter": "python",
   "pygments_lexer": "ipython3",
   "version": "3.6.5"
  }
 },
 "nbformat": 4,
 "nbformat_minor": 2
}
